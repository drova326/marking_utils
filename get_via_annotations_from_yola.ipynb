{
 "cells": [
  {
   "cell_type": "code",
   "execution_count": 1,
   "metadata": {
    "collapsed": true
   },
   "outputs": [],
   "source": [
    "import torch\n",
    "import cv2\n",
    "from PIL import Image\n",
    "import matplotlib.pyplot as plt\n",
    "import pandas as pd\n",
    "import os\n",
    "from tqdm import tqdm\n",
    "%matplotlib inline"
   ]
  },
  {
   "cell_type": "code",
   "execution_count": null,
   "metadata": {
    "collapsed": true
   },
   "outputs": [],
   "source": [
    "from cook_data import *"
   ]
  },
  {
   "cell_type": "code",
   "execution_count": null,
   "metadata": {
    "collapsed": true
   },
   "outputs": [],
   "source": [
    "model = torch.hub.load('/path/to/repo_yolov5', \n",
    "                       'custom', \n",
    "                       path='/path/to/model_yolov5.pt',\n",
    "                       source='local')"
   ]
  },
  {
   "cell_type": "code",
   "execution_count": null,
   "metadata": {
    "collapsed": true
   },
   "outputs": [],
   "source": [
    "labels = {model.names[i]: '' for i in range(len(model.names))}\n",
    "labels"
   ]
  },
  {
   "cell_type": "code",
   "execution_count": null,
   "metadata": {
    "collapsed": true
   },
   "outputs": [],
   "source": [
    "batchsize = 16"
   ]
  },
  {
   "cell_type": "code",
   "execution_count": null,
   "metadata": {
    "collapsed": true
   },
   "outputs": [],
   "source": [
    "source_dir ='/path/to/images'"
   ]
  },
  {
   "cell_type": "code",
   "execution_count": null,
   "metadata": {
    "collapsed": true
   },
   "outputs": [],
   "source": [
    "for _, dirs, _ in os.walk(source_dir):\n",
    "    for d in sorted(dirs):\n",
    "        if d[0] == '.':\n",
    "            continue\n",
    "        try:\n",
    "            yoloAnnotations = []\n",
    "            tmp_path = os.path.join(source_dir, d)\n",
    "\n",
    "            for _, _, files in os.walk(tmp_path):\n",
    "                imgs = [i for i in files if i[-3:] in ('jpg', 'png', 'bmp')]\n",
    "                break\n",
    "\n",
    "            for n in tqdm(range(len(imgs) // batchsize + 1), desc=d):\n",
    "                imgs_batch = imgs[n * batchsize: (n + 1) * batchsize]\n",
    "                imgs_ = []\n",
    "                for img in imgs_batch:\n",
    "                    imgs_.append(Image.open(os.path.join(tmp_path, img)))\n",
    "                if len(imgs_) > 0:\n",
    "                    result = model(imgs_, size=640)\n",
    "                    yoloAnnotations.extend(result.pandas().xyxy)\n",
    " \n",
    "            fromYolaToVia(tmp_path, imgs, yoloAnnotations, labels, project_name='fromYolaToVia')\n",
    "        except:\n",
    "            print('error', os.path.join(source_dir, d), )\n",
    "    break"
   ]
  }
 ],
 "metadata": {
  "kernelspec": {
   "display_name": "torch_p36",
   "language": "python",
   "name": "torch_p36"
  },
  "language_info": {
   "codemirror_mode": {
    "name": "ipython",
    "version": 3
   },
   "file_extension": ".py",
   "mimetype": "text/x-python",
   "name": "python",
   "nbconvert_exporter": "python",
   "pygments_lexer": "ipython3",
   "version": "3.6.8"
  }
 },
 "nbformat": 4,
 "nbformat_minor": 2
}
