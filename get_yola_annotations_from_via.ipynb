{
 "cells": [
  {
   "cell_type": "code",
   "execution_count": 1,
   "metadata": {
    "collapsed": true
   },
   "outputs": [],
   "source": [
    "import torch\n",
    "import cv2\n",
    "from PIL import Image\n",
    "import matplotlib.pyplot as plt\n",
    "import pandas as pd\n",
    "import os\n",
    "from tqdm import tqdm\n",
    "%matplotlib inline"
   ]
  },
  {
   "cell_type": "code",
   "execution_count": 2,
   "metadata": {
    "collapsed": true
   },
   "outputs": [],
   "source": [
    "from cook_data import *"
   ]
  },
  {
   "cell_type": "code",
   "execution_count": 5,
   "metadata": {
    "collapsed": true
   },
   "outputs": [],
   "source": [
    "path ='/home/lupin-ya1/notebooks/DATA_INCOME/models/yolov5/data/KIC/00_pack.json'"
   ]
  },
  {
   "cell_type": "code",
   "execution_count": 6,
   "metadata": {},
   "outputs": [
    {
     "data": {
      "text/plain": [
       "{'0_side': '0',\n",
       " '100_bills': '1',\n",
       " '200_bills': '2',\n",
       " '500_bills': '3',\n",
       " '1000_bills': '4',\n",
       " '2000_bills': '5',\n",
       " '5000_bills': '6',\n",
       " '0_box_closed': '7',\n",
       " '0_box': '8',\n",
       " '100_box_brown': '9',\n",
       " '200_box_green': '10',\n",
       " '500_box_violet': '11',\n",
       " '1000_box_turquoise': '12',\n",
       " '2000_box_blue': '13',\n",
       " '5000_box_orange': '14'}"
      ]
     },
     "execution_count": 6,
     "metadata": {},
     "output_type": "execute_result"
    }
   ],
   "source": [
    "labels = viaGetLables(path)[1]\n",
    "labels"
   ]
  },
  {
   "cell_type": "code",
   "execution_count": 7,
   "metadata": {},
   "outputs": [
    {
     "name": "stderr",
     "output_type": "stream",
     "text": [
      "convert via annotate for yola: 100%|██████████| 1000/1000 [00:00<00:00, 5642.19it/s]\n"
     ]
    }
   ],
   "source": [
    "out = via2yola(path, path[:-5], labels)['annotate']"
   ]
  },
  {
   "cell_type": "code",
   "execution_count": 9,
   "metadata": {},
   "outputs": [
    {
     "data": {
      "text/plain": [
       "'/home/lupin-ya1/notebooks/DATA_INCOME/models/yolov5/data/KIC/00_pack'"
      ]
     },
     "execution_count": 9,
     "metadata": {},
     "output_type": "execute_result"
    }
   ],
   "source": [
    "path[:-5]"
   ]
  },
  {
   "cell_type": "code",
   "execution_count": 10,
   "metadata": {
    "collapsed": true
   },
   "outputs": [],
   "source": [
    "for txt in out:\n",
    "    with open(os.path.join(path[:-5], txt), 'w') as f:\n",
    "        f.write('\\n'.join(out[txt]))"
   ]
  }
 ],
 "metadata": {
  "kernelspec": {
   "display_name": "torch_p36",
   "language": "python",
   "name": "torch_p36"
  },
  "language_info": {
   "codemirror_mode": {
    "name": "ipython",
    "version": 3
   },
   "file_extension": ".py",
   "mimetype": "text/x-python",
   "name": "python",
   "nbconvert_exporter": "python",
   "pygments_lexer": "ipython3",
   "version": "3.6.8"
  }
 },
 "nbformat": 4,
 "nbformat_minor": 2
}
