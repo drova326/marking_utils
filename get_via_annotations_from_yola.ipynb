{
 "cells": [
  {
   "cell_type": "code",
   "execution_count": 1,
   "metadata": {
    "collapsed": true
   },
   "outputs": [],
   "source": [
    "import torch\n",
    "import cv2\n",
    "from PIL import Image\n",
    "import matplotlib.pyplot as plt\n",
    "import pandas as pd\n",
    "import os\n",
    "from tqdm import tqdm\n",
    "%matplotlib inline"
   ]
  },
  {
   "cell_type": "code",
   "execution_count": 2,
   "metadata": {
    "collapsed": true
   },
   "outputs": [],
   "source": [
    "from cook_data import *"
   ]
  },
  {
   "cell_type": "code",
   "execution_count": 3,
   "metadata": {},
   "outputs": [
    {
     "name": "stderr",
     "output_type": "stream",
     "text": [
      "YOLOv5 🚀 2021-7-29 torch 1.7.0+cu101 CUDA:0 (Tesla P100-PCIE-16GB, 16280.875MB)\n",
      "\n",
      "Fusing layers... \n",
      "Model Summary: 232 layers, 7284276 parameters, 0 gradients\n",
      "Adding AutoShape... \n"
     ]
    }
   ],
   "source": [
    "model = torch.hub.load('/home/lupin-ya1/notebooks/DATA_INCOME/models/yolov5', \n",
    "                       'custom', \n",
    "#                        path='/home/lupin-ya1/notebooks/DATA_INCOME/models/yolov5/yolov5s6.pt',\n",
    "                       path='/home/lupin-ya1/notebooks/DATA_INCOME/models/yolov5/custom_models/KIC_best.pt',\n",
    "                       source='local')"
   ]
  },
  {
   "cell_type": "code",
   "execution_count": 4,
   "metadata": {},
   "outputs": [
    {
     "data": {
      "text/plain": [
       "{'0_side': '',\n",
       " '100_bills': '',\n",
       " '200_bills': '',\n",
       " '500_bills': '',\n",
       " '1000_bills': '',\n",
       " '2000_bills': '',\n",
       " '5000_bills': '',\n",
       " '0_box_closed': '',\n",
       " '0_box': '',\n",
       " '100_box_brown': '',\n",
       " '200_box_green': '',\n",
       " '500_box_violet': '',\n",
       " '1000_box_turquoise': '',\n",
       " '2000_box_blue': '',\n",
       " '5000_box_orange': ''}"
      ]
     },
     "execution_count": 4,
     "metadata": {},
     "output_type": "execute_result"
    }
   ],
   "source": [
    "# interes_labels = {'person', 'bus'}\n",
    "# labels = {model.names[i]: '' for i in range(len(model.names)) if model.names[i] in interes_labels}\n",
    "labels = {model.names[i]: '' for i in range(len(model.names))}\n",
    "labels"
   ]
  },
  {
   "cell_type": "code",
   "execution_count": 5,
   "metadata": {
    "collapsed": true
   },
   "outputs": [],
   "source": [
    "batchsize = 16"
   ]
  },
  {
   "cell_type": "code",
   "execution_count": 6,
   "metadata": {
    "collapsed": true
   },
   "outputs": [],
   "source": [
    "dpath ='/home/lupin-ya1/notebooks/DATA_INCOME/models/yolov5/data/kic_ds_khab'"
   ]
  },
  {
   "cell_type": "code",
   "execution_count": 7,
   "metadata": {},
   "outputs": [
    {
     "name": "stderr",
     "output_type": "stream",
     "text": [
      "00_pack: 100%|██████████| 51/51 [00:18<00:00,  2.78it/s]\n",
      "01_pack: 100%|██████████| 51/51 [00:19<00:00,  2.62it/s]\n",
      "02_pack: 100%|██████████| 51/51 [00:19<00:00,  2.63it/s]\n",
      "03_pack: 100%|██████████| 51/51 [00:19<00:00,  2.65it/s]\n",
      "04_pack: 100%|██████████| 51/51 [00:18<00:00,  2.69it/s]\n",
      "05_pack: 100%|██████████| 51/51 [00:17<00:00,  2.87it/s]\n",
      "06_pack: 100%|██████████| 51/51 [00:17<00:00,  2.86it/s]\n",
      "07_pack: 100%|██████████| 51/51 [00:17<00:00,  2.89it/s]\n",
      "08_pack: 100%|██████████| 51/51 [00:17<00:00,  2.91it/s]\n",
      "09_pack: 100%|██████████| 51/51 [00:17<00:00,  2.90it/s]\n",
      "10_pack: 100%|██████████| 51/51 [00:17<00:00,  2.85it/s]\n",
      "11_pack: 100%|██████████| 51/51 [00:17<00:00,  2.84it/s]\n",
      "12_pack: 100%|██████████| 51/51 [00:18<00:00,  2.83it/s]\n",
      "13_pack: 100%|██████████| 51/51 [00:17<00:00,  2.84it/s]\n",
      "14_pack: 100%|██████████| 51/51 [00:17<00:00,  2.83it/s]\n",
      "15_pack: 100%|██████████| 51/51 [00:17<00:00,  2.84it/s]\n",
      "16_pack: 100%|██████████| 51/51 [00:17<00:00,  2.86it/s]\n",
      "17_pack: 100%|██████████| 51/51 [00:18<00:00,  2.80it/s]\n",
      "18_pack: 100%|██████████| 51/51 [00:17<00:00,  2.89it/s]\n",
      "19_pack: 100%|██████████| 51/51 [00:17<00:00,  2.88it/s]\n",
      "20_pack: 100%|██████████| 51/51 [00:19<00:00,  2.57it/s]\n",
      "21_pack: 100%|██████████| 51/51 [00:19<00:00,  2.56it/s]\n",
      "22_pack: 100%|██████████| 51/51 [00:19<00:00,  2.60it/s]\n",
      "23_pack: 100%|██████████| 51/51 [00:19<00:00,  2.56it/s]\n",
      "24_pack: 100%|██████████| 51/51 [00:19<00:00,  2.63it/s]\n",
      "25_pack: 100%|██████████| 51/51 [00:19<00:00,  2.59it/s]\n",
      "26_pack: 100%|██████████| 40/40 [00:15<00:00,  2.60it/s]\n"
     ]
    }
   ],
   "source": [
    "for _, dirs, _ in os.walk(dpath):\n",
    "    for d in sorted(dirs):\n",
    "        if d[0] == '.':\n",
    "            continue\n",
    "        try:\n",
    "            yoloAnnotations = []\n",
    "            tmp_path = os.path.join(dpath, d)\n",
    "\n",
    "            for _, _, files in os.walk(tmp_path):\n",
    "                imgs = [i for i in files if i[-3:] in ('jpg', 'png', 'bmp')]\n",
    "                break\n",
    "\n",
    "            for n in tqdm(range(len(imgs) // batchsize + 1), desc=d):\n",
    "                imgs_batch = imgs[n * batchsize: (n + 1) * batchsize]\n",
    "                imgs_ = []\n",
    "                for img in imgs_batch:\n",
    "                    imgs_.append(Image.open(os.path.join(tmp_path, img)))\n",
    "                if len(imgs_) > 0:\n",
    "                    result = model(imgs_, size=640)\n",
    "                    yoloAnnotations.extend(result.pandas().xyxy)\n",
    " \n",
    "            fromYolaToVia(tmp_path, imgs, yoloAnnotations, labels, project_name='fromYolaToVia')\n",
    "        except:\n",
    "            print('error', os.path.join(multi_path, d), )\n",
    "    break"
   ]
  }
 ],
 "metadata": {
  "kernelspec": {
   "display_name": "torch_p36",
   "language": "python",
   "name": "torch_p36"
  },
  "language_info": {
   "codemirror_mode": {
    "name": "ipython",
    "version": 3
   },
   "file_extension": ".py",
   "mimetype": "text/x-python",
   "name": "python",
   "nbconvert_exporter": "python",
   "pygments_lexer": "ipython3",
   "version": "3.6.8"
  }
 },
 "nbformat": 4,
 "nbformat_minor": 2
}
