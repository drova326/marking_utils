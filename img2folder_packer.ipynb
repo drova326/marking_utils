{
 "cells": [
  {
   "cell_type": "code",
   "execution_count": 1,
   "metadata": {
    "collapsed": true
   },
   "outputs": [],
   "source": [
    "import os\n",
    "%matplotlib inline"
   ]
  },
  {
   "cell_type": "code",
   "execution_count": 2,
   "metadata": {
    "collapsed": true
   },
   "outputs": [],
   "source": [
    "packsize = 800\n",
    "path = '/home/lupin-ya1/notebooks/DATA_INCOME/models/yolov5/data/kic_ds_khab'"
   ]
  },
  {
   "cell_type": "code",
   "execution_count": 3,
   "metadata": {
    "collapsed": true
   },
   "outputs": [],
   "source": [
    "for _, _, files in os.walk(path):\n",
    "    imgs = [i for i in files if i[-3:] in ('jpg', 'png', 'bmp')]\n",
    "    break"
   ]
  },
  {
   "cell_type": "code",
   "execution_count": 4,
   "metadata": {
    "collapsed": true
   },
   "outputs": [],
   "source": [
    "for n in range(len(imgs) // packsize + 1):\n",
    "    new_path = os.path.join(path, str(n).zfill(2) + '_pack')\n",
    "    os.makedirs(new_path, exist_ok=True)\n",
    "    imgs_pack = imgs[n * packsize: (n + 1) * packsize]\n",
    "    for img in imgs_pack:\n",
    "        os.rename(os.path.join(path, img), os.path.join(new_path, img))"
   ]
  }
 ],
 "metadata": {
  "kernelspec": {
   "display_name": "torch_p36",
   "language": "python",
   "name": "torch_p36"
  },
  "language_info": {
   "codemirror_mode": {
    "name": "ipython",
    "version": 3
   },
   "file_extension": ".py",
   "mimetype": "text/x-python",
   "name": "python",
   "nbconvert_exporter": "python",
   "pygments_lexer": "ipython3",
   "version": "3.6.8"
  }
 },
 "nbformat": 4,
 "nbformat_minor": 2
}
